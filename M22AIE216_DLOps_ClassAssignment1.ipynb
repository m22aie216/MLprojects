{
  "nbformat": 4,
  "nbformat_minor": 0,
  "metadata": {
    "colab": {
      "provenance": [],
      "gpuType": "T4"
    },
    "kernelspec": {
      "name": "python3",
      "display_name": "Python 3"
    },
    "language_info": {
      "name": "python"
    },
    "accelerator": "GPU"
  },
  "cells": [
    {
      "cell_type": "markdown",
      "source": [
        "Class Assignment 1: CNN on CIFAR-10 data.\n",
        "\n",
        "Total Marks: 30\n"
      ],
      "metadata": {
        "id": "2zyX8ws2kJ_9"
      }
    },
    {
      "cell_type": "markdown",
      "source": [
        "Import the necessary python packages and libraries in the following cell."
      ],
      "metadata": {
        "id": "zCXLoICufNVb"
      }
    },
    {
      "cell_type": "code",
      "execution_count": null,
      "metadata": {
        "id": "Pvvfqso5Lwo5"
      },
      "outputs": [],
      "source": [
        "## Import the libraries here in this cell"
      ]
    },
    {
      "cell_type": "markdown",
      "source": [
        "Q1 (a) Print the torch and torchvision version [Marks: 1+1]"
      ],
      "metadata": {
        "id": "oC2LO3gWXoC6"
      }
    },
    {
      "cell_type": "code",
      "source": [
        "# Your code here"
      ],
      "metadata": {
        "id": "DAUwwgq4UoM4"
      },
      "execution_count": null,
      "outputs": []
    },
    {
      "cell_type": "markdown",
      "source": [
        "Q1 (b) Set the device to cuda, if available. [Marks: 1]"
      ],
      "metadata": {
        "id": "ToeCElBBXzDE"
      }
    },
    {
      "cell_type": "code",
      "source": [
        "# device = // Your code here"
      ],
      "metadata": {
        "id": "v36w_JYRN5zi"
      },
      "execution_count": null,
      "outputs": []
    },
    {
      "cell_type": "markdown",
      "source": [
        "Q1 (c) Transform or preprocess the data utilizing the following operations. [Marks: 1x5 = 5]\n",
        "\n",
        "*   Normalize data\n",
        "*   Resize each image to 224 x 224\n",
        "*   Add Color Jitter with hue and saturation as 0.5\n",
        "*   Introduce Random horizontal flips\n",
        "*   Rotate images about 20 degrees\n"
      ],
      "metadata": {
        "id": "uRagh6zpX6eu"
      }
    },
    {
      "cell_type": "code",
      "source": [
        "# transform = // Your code here"
      ],
      "metadata": {
        "id": "jyECVuHCLzjU"
      },
      "execution_count": null,
      "outputs": []
    },
    {
      "cell_type": "markdown",
      "source": [
        "Q2 (a) Train and test Resnet18 on Even numbered Classes in CIFAR10 Dataset. [Marks: 5]"
      ],
      "metadata": {
        "id": "lpigLtrfN_0r"
      }
    },
    {
      "cell_type": "code",
      "source": [
        "# Filter only even-numbered classes\n",
        "\n",
        "trainset = datasets.CIFAR10(root='./data', train=True, download=True, transform=transform)\n",
        "testset = datasets.CIFAR10(root='./data', train=False, download=True, transform=transform)\n",
        "\n",
        "# Your code here\n",
        "#HINT: Use torch utils Subset class to create a subset of the dataset"
      ],
      "metadata": {
        "colab": {
          "base_uri": "https://localhost:8080/"
        },
        "id": "G9_FJjUTMNTz",
        "outputId": "40511187-ce99-47c2-d9cb-9f9cd92a8739"
      },
      "execution_count": null,
      "outputs": [
        {
          "output_type": "stream",
          "name": "stdout",
          "text": [
            "Files already downloaded and verified\n",
            "Files already downloaded and verified\n"
          ]
        }
      ]
    },
    {
      "cell_type": "code",
      "source": [
        "trainloader = DataLoader(trainset, batch_size=64, shuffle=True, num_workers=2)\n",
        "testloader = DataLoader(testset, batch_size=64, shuffle=False, num_workers=2)"
      ],
      "metadata": {
        "id": "BduF1BRaMXdy"
      },
      "execution_count": null,
      "outputs": []
    },
    {
      "cell_type": "code",
      "source": [
        "model = resnet18(weights='DEFAULT').to(device)\n",
        "model.fc = nn.Linear(model.fc.in_features, len(even_classes)).to(device)"
      ],
      "metadata": {
        "id": "bcy3z3LwMfD_"
      },
      "execution_count": null,
      "outputs": []
    },
    {
      "cell_type": "code",
      "source": [
        "criterion = nn.CrossEntropyLoss()\n",
        "optimizer = optim.Adam(model.parameters(), lr=0.001)"
      ],
      "metadata": {
        "id": "F0so2UU3Mk-H"
      },
      "execution_count": null,
      "outputs": []
    },
    {
      "cell_type": "markdown",
      "source": [
        "Q2 (b) Complete the code for backpropagation inside the train function. [Marks: 5]\n"
      ],
      "metadata": {
        "id": "BE34EPF5cSx1"
      }
    },
    {
      "cell_type": "code",
      "source": [
        "def train(model, trainloader, criterion, optimizer, device):\n",
        "\n",
        "    model.train()\n",
        "\n",
        "    train_loss = 0.0\n",
        "    correct_train = 0\n",
        "    total_train = 0\n",
        "\n",
        "    for inputs, labels in trainloader:\n",
        "\n",
        "        inputs, labels = inputs.to(device), labels.to(device)\n",
        "\n",
        "        # Complete the code\n",
        "\n",
        "        _, pred = outputs.max(1)\n",
        "        total_train += labels.size(0)\n",
        "        correct_train += pred.eq(labels).sum().item()\n",
        "\n",
        "    train_acc = 100 * correct_train / total_train\n",
        "\n",
        "    return train_loss/len(trainloader), train_acc"
      ],
      "metadata": {
        "id": "Dk3Ve6KZMwzo"
      },
      "execution_count": null,
      "outputs": []
    },
    {
      "cell_type": "markdown",
      "source": [
        "Q2 (c) Complete the test function to test out the model. [Marks: 5]"
      ],
      "metadata": {
        "id": "qyLTfPyQcndU"
      }
    },
    {
      "cell_type": "code",
      "source": [
        "def test(model, testloader, criterion, device):\n",
        "    model.eval()\n",
        "    correct_test = 0\n",
        "    total_test = 0\n",
        "\n",
        "    # Your code here\n",
        "\n",
        "    return test_accuracy"
      ],
      "metadata": {
        "id": "4hKN8C5oNrH8"
      },
      "execution_count": null,
      "outputs": []
    },
    {
      "cell_type": "markdown",
      "source": [
        "Q3 (a) Complete the code to plot the train and test accuracies [Marks: 2]"
      ],
      "metadata": {
        "id": "yv8URWXMaiDE"
      }
    },
    {
      "cell_type": "code",
      "source": [
        "def plot_accuracies(train_accuracies, test_accuracies, epochs):\n",
        "\n",
        "    # Your code here\n",
        "\n",
        "    plt.xlabel('Epochs')\n",
        "    plt.ylabel('Accuracy')\n",
        "    plt.title('Train and Test Accuracies vs Epochs')\n",
        "    plt.legend()\n",
        "    plt.show()\n"
      ],
      "metadata": {
        "id": "YapUFkS5NzHs"
      },
      "execution_count": null,
      "outputs": []
    },
    {
      "cell_type": "markdown",
      "source": [
        "Q3 (b) Complete the code to plot a Confusion Matrix (without sklearn) [Marks: 3]"
      ],
      "metadata": {
        "id": "Cr2ILH4bXhw9"
      }
    },
    {
      "cell_type": "code",
      "source": [
        "def plot_confusion_matrix(model, dataloader, class_names, device):\n",
        "    model.eval()\n",
        "    all_labels = []\n",
        "    all_predictions = []\n",
        "\n",
        "    num_classes = len(class_names)\n",
        "    confusion_matrix = torch.zeros(num_classes, num_classes)\n",
        "\n",
        "    # Your code here\n",
        "\n",
        "    plt.figure(figsize=(num_classes, num_classes))\n",
        "    sns.heatmap(confusion_matrix, annot=True, fmt=\".0f\", cmap=\"Blues\", xticklabels=class_names, yticklabels=class_names)\n",
        "    plt.xlabel('Predicted')\n",
        "    plt.ylabel('Actual')\n",
        "    plt.title('Confusion Matrix')\n",
        "    plt.show()\n"
      ],
      "metadata": {
        "id": "TcCb7VHRP7Mz"
      },
      "execution_count": null,
      "outputs": []
    },
    {
      "cell_type": "markdown",
      "source": [
        "Q3 (c) Complete the following code block to train and test the model. [Marks: 2]"
      ],
      "metadata": {
        "id": "zZMxIIdUm-OV"
      }
    },
    {
      "cell_type": "code",
      "source": [
        "epochs = 10\n",
        "train_accuracies = []\n",
        "test_accuracies = []\n",
        "\n",
        "for epoch in range(epochs):\n",
        "\n",
        "        # Complete the loop\n",
        "\n",
        "        print(f'Epoch {epoch + 1} | Train Loss: {train_loss:.3f} | Train Accuracy: {train_acc:.3f}% | Test Accuracy: {test_acc:.3f}%')\n",
        "\n",
        "\n",
        "plot_accuracies(train_accuracies, test_accuracies, epochs)\n",
        "class_names = ['0', '2', '4', '6', '8']\n",
        "plot_confusion_matrix(model, testloader, class_names, device)"
      ],
      "metadata": {
        "id": "s5L9mHqiOL5n"
      },
      "execution_count": null,
      "outputs": []
    }
  ]
}